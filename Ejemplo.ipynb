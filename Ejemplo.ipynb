{
 "cells": [
  {
   "cell_type": "markdown",
   "id": "unlimited-poison",
   "metadata": {},
   "source": [
    "# Ejemplo de tarea resuelta\n",
    "\n",
    "## Preparación del ambiente de computación\n",
    "\n",
    "Para poder ejecutar los análisis de este cuaderno es necesario:\n",
    "\n",
    "1. Instalar BLAST.\n",
    "2. Descomprimir el archivo taxdb.btd.gz\n",
    "\n",
    "Para hacerlo de forma automática desde R, disponemos en esta carpeta del pequeño *script* de BASH: `preparar_ambiente.sh`. Esta vez, sólo hace falta ejecutar el bloque siguiente, sin necesidad de salir del cuaderno:"
   ]
  },
  {
   "cell_type": "code",
   "execution_count": null,
   "id": "silent-malpractice",
   "metadata": {},
   "outputs": [],
   "source": [
    "system2(command = './preparar_ambiente.sh', wait = TRUE)"
   ]
  },
  {
   "cell_type": "markdown",
   "id": "sublime-monitoring",
   "metadata": {},
   "source": [
    "## Introducción\n",
    "El objetivo de este análisis es explorar la distribución taxonómica de las secuencias homólogas a la de la protoclorofílida reductasa dependiente de luz (LPOR) de *Arabidopsis thaliana*.\n",
    "\n",
    "## Métodos\n",
    "La base de datos de secuencias en la que voy a buscar homologías és Swissprot, porque es una base de datos de proteínas ya instalada localmente en este ambiente.\n",
    "\n",
    "Uilizaré **blastp** (Altschul *et al.*, 1990) con diferentes umbrales de valor E, para determinar a qué ritmo aumenta la distribución taxonómica de las secuencias encontradas a medida que se relaja el grado de similitud exigido. Es decir, a medida que acepto como resultados del **blastp** secuencias con un valor E mayor. \n",
    "\n",
    "## Resultados\n",
    "### BLASTP individual\n",
    "Primero, ejecuto una única búsqueda con **blastp**, usando un umbral de valor E de 1.0e-50, que es muy exigente: sólo las secuencias extremadamente parecidas a la original apareceran en los resultados."
   ]
  },
  {
   "cell_type": "code",
   "execution_count": 1,
   "id": "silent-stereo",
   "metadata": {},
   "outputs": [
    {
     "data": {
      "text/html": [
       "<style>\n",
       ".list-inline {list-style: none; margin:0; padding: 0}\n",
       ".list-inline>li {display: inline-block}\n",
       ".list-inline>li:not(:last-child)::after {content: \"\\00b7\"; padding: 0 .5ex}\n",
       "</style>\n",
       "<ol class=list-inline><li>16</li><li>11</li></ol>\n"
      ],
      "text/latex": [
       "\\begin{enumerate*}\n",
       "\\item 16\n",
       "\\item 11\n",
       "\\end{enumerate*}\n"
      ],
      "text/markdown": [
       "1. 16\n",
       "2. 11\n",
       "\n",
       "\n"
      ],
      "text/plain": [
       "[1] 16 11"
      ]
     },
     "metadata": {},
     "output_type": "display_data"
    }
   ],
   "source": [
    "# Observa entre los argumentes la especificación del formato de salida,\n",
    "# \"-outfmt\". Si hace falta, desliza la barra para visualizar la línea completa.\n",
    "BlastpOut01 <- system2(command = 'blastp',\n",
    "                      args = c('-db', 'swissprot',\n",
    "                              '-query', 'LPOR.fas',\n",
    "                              '-evalue', '1.0e-50',\n",
    "                              '-outfmt', '\"7 saccver pident length qstart qend sstart send evalue staxid ssciname sblastname\"'),\n",
    "                      stdout = TRUE)\n",
    "\n",
    "# El resultado del comando anterior, guardado en \"BlastOut01\", es un montón de\n",
    "# texto plano. Con las funciones textConnection() y read.table(), lo transformamos\n",
    "# en un \"data frame\", una tabla donde cada columna es una variable. La opción\n",
    "# \"col.names\" en read.table() sirve para dar nombre a las columnas.\n",
    "TablaOut01 <- read.table(textConnection(BlastpOut01),\n",
    "                        sep = '\\t',\n",
    "                        col.names = c('saccver', 'pident', 'length', 'qstart',\n",
    "                                     'qend', 'sstart', 'send', 'evalue', 'staxid',\n",
    "                                     'ssciname', 'sblastname'))\n",
    "# Dimensiones de la tabla:\n",
    "dim(TablaOut01)"
   ]
  },
  {
   "cell_type": "code",
   "execution_count": 2,
   "id": "integral-thomson",
   "metadata": {},
   "outputs": [
    {
     "data": {
      "text/html": [
       "<table class=\"dataframe\">\n",
       "<caption>A data.frame: 16 × 11</caption>\n",
       "<thead>\n",
       "\t<tr><th scope=col>saccver</th><th scope=col>pident</th><th scope=col>length</th><th scope=col>qstart</th><th scope=col>qend</th><th scope=col>sstart</th><th scope=col>send</th><th scope=col>evalue</th><th scope=col>staxid</th><th scope=col>ssciname</th><th scope=col>sblastname</th></tr>\n",
       "\t<tr><th scope=col>&lt;fct&gt;</th><th scope=col>&lt;dbl&gt;</th><th scope=col>&lt;int&gt;</th><th scope=col>&lt;int&gt;</th><th scope=col>&lt;int&gt;</th><th scope=col>&lt;int&gt;</th><th scope=col>&lt;int&gt;</th><th scope=col>&lt;dbl&gt;</th><th scope=col>&lt;int&gt;</th><th scope=col>&lt;fct&gt;</th><th scope=col>&lt;fct&gt;</th></tr>\n",
       "</thead>\n",
       "<tbody>\n",
       "\t<tr><td>O48741.1</td><td>100.000</td><td>401</td><td> 1</td><td>401</td><td> 1</td><td>401</td><td> 0.00e+00</td><td>   3702</td><td>Arabidopsis thaliana                     </td><td>eudicots     </td></tr>\n",
       "\t<tr><td>Q9SDT1.1</td><td> 78.856</td><td>402</td><td> 1</td><td>401</td><td> 1</td><td>398</td><td> 0.00e+00</td><td>   4039</td><td>Daucus carota                            </td><td>eudicots     </td></tr>\n",
       "\t<tr><td>Q41249.1</td><td> 77.612</td><td>402</td><td> 1</td><td>401</td><td> 1</td><td>398</td><td> 0.00e+00</td><td>   3659</td><td>Cucumis sativus                          </td><td>eudicots     </td></tr>\n",
       "\t<tr><td>Q42536.2</td><td> 75.245</td><td>408</td><td> 1</td><td>401</td><td> 1</td><td>405</td><td> 0.00e+00</td><td>   3702</td><td>Arabidopsis thaliana                     </td><td>eudicots     </td></tr>\n",
       "\t<tr><td>Q8W3D9.1</td><td> 74.384</td><td>406</td><td> 1</td><td>401</td><td> 1</td><td>398</td><td> 0.00e+00</td><td>  39947</td><td>Oryza sativa Japonica Group              </td><td>monocots     </td></tr>\n",
       "\t<tr><td>Q42850.1</td><td> 73.945</td><td>403</td><td> 1</td><td>401</td><td> 1</td><td>395</td><td> 0.00e+00</td><td>   4513</td><td>Hordeum vulgare                          </td><td>monocots     </td></tr>\n",
       "\t<tr><td>Q01289.1</td><td> 77.723</td><td>404</td><td> 1</td><td>401</td><td> 1</td><td>399</td><td> 0.00e+00</td><td>   3888</td><td>Pisum sativum                            </td><td>eudicots     </td></tr>\n",
       "\t<tr><td>P21218.3</td><td> 76.049</td><td>405</td><td> 1</td><td>401</td><td> 1</td><td>401</td><td> 0.00e+00</td><td>   3702</td><td>Arabidopsis thaliana                     </td><td>eudicots     </td></tr>\n",
       "\t<tr><td>O80333.1</td><td> 66.093</td><td>407</td><td> 2</td><td>400</td><td>66</td><td>457</td><td> 0.00e+00</td><td>  56867</td><td>Marchantia paleacea                      </td><td>liverworts   </td></tr>\n",
       "\t<tr><td>Q41578.1</td><td> 69.458</td><td>406</td><td> 1</td><td>401</td><td> 1</td><td>388</td><td> 0.00e+00</td><td>   4565</td><td>Triticum aestivum                        </td><td>monocots     </td></tr>\n",
       "\t<tr><td>Q7XKF3.1</td><td> 68.317</td><td>404</td><td> 1</td><td>400</td><td> 1</td><td>386</td><td> 0.00e+00</td><td>  39947</td><td>Oryza sativa Japonica Group              </td><td>monocots     </td></tr>\n",
       "\t<tr><td>P13653.1</td><td> 68.966</td><td>406</td><td> 1</td><td>401</td><td> 1</td><td>388</td><td> 0.00e+00</td><td>   4513</td><td>Hordeum vulgare                          </td><td>monocots     </td></tr>\n",
       "\t<tr><td>P15904.1</td><td> 79.553</td><td>313</td><td>91</td><td>401</td><td> 1</td><td>313</td><td>1.60e-171</td><td>   4498</td><td>Avena sativa                             </td><td>monocots     </td></tr>\n",
       "\t<tr><td>Q39617.1</td><td> 70.253</td><td>316</td><td>86</td><td>401</td><td>82</td><td>396</td><td>4.60e-164</td><td>   3055</td><td>Chlamydomonas reinhardtii                </td><td>green algae  </td></tr>\n",
       "\t<tr><td>O66148.2</td><td> 56.698</td><td>321</td><td>87</td><td>401</td><td> 4</td><td>322</td><td>4.04e-122</td><td>   1184</td><td>Leptolyngbya boryana                     </td><td>cyanobacteria</td></tr>\n",
       "\t<tr><td>Q59987.2</td><td> 53.918</td><td>319</td><td>89</td><td>401</td><td> 6</td><td>322</td><td>1.54e-113</td><td>1111708</td><td>Synechocystis sp. PCC 6803 substr. Kazusa</td><td>cyanobacteria</td></tr>\n",
       "</tbody>\n",
       "</table>\n"
      ],
      "text/latex": [
       "A data.frame: 16 × 11\n",
       "\\begin{tabular}{lllllllllll}\n",
       " saccver & pident & length & qstart & qend & sstart & send & evalue & staxid & ssciname & sblastname\\\\\n",
       " <fct> & <dbl> & <int> & <int> & <int> & <int> & <int> & <dbl> & <int> & <fct> & <fct>\\\\\n",
       "\\hline\n",
       "\t O48741.1 & 100.000 & 401 &  1 & 401 &  1 & 401 &  0.00e+00 &    3702 & Arabidopsis thaliana                      & eudicots     \\\\\n",
       "\t Q9SDT1.1 &  78.856 & 402 &  1 & 401 &  1 & 398 &  0.00e+00 &    4039 & Daucus carota                             & eudicots     \\\\\n",
       "\t Q41249.1 &  77.612 & 402 &  1 & 401 &  1 & 398 &  0.00e+00 &    3659 & Cucumis sativus                           & eudicots     \\\\\n",
       "\t Q42536.2 &  75.245 & 408 &  1 & 401 &  1 & 405 &  0.00e+00 &    3702 & Arabidopsis thaliana                      & eudicots     \\\\\n",
       "\t Q8W3D9.1 &  74.384 & 406 &  1 & 401 &  1 & 398 &  0.00e+00 &   39947 & Oryza sativa Japonica Group               & monocots     \\\\\n",
       "\t Q42850.1 &  73.945 & 403 &  1 & 401 &  1 & 395 &  0.00e+00 &    4513 & Hordeum vulgare                           & monocots     \\\\\n",
       "\t Q01289.1 &  77.723 & 404 &  1 & 401 &  1 & 399 &  0.00e+00 &    3888 & Pisum sativum                             & eudicots     \\\\\n",
       "\t P21218.3 &  76.049 & 405 &  1 & 401 &  1 & 401 &  0.00e+00 &    3702 & Arabidopsis thaliana                      & eudicots     \\\\\n",
       "\t O80333.1 &  66.093 & 407 &  2 & 400 & 66 & 457 &  0.00e+00 &   56867 & Marchantia paleacea                       & liverworts   \\\\\n",
       "\t Q41578.1 &  69.458 & 406 &  1 & 401 &  1 & 388 &  0.00e+00 &    4565 & Triticum aestivum                         & monocots     \\\\\n",
       "\t Q7XKF3.1 &  68.317 & 404 &  1 & 400 &  1 & 386 &  0.00e+00 &   39947 & Oryza sativa Japonica Group               & monocots     \\\\\n",
       "\t P13653.1 &  68.966 & 406 &  1 & 401 &  1 & 388 &  0.00e+00 &    4513 & Hordeum vulgare                           & monocots     \\\\\n",
       "\t P15904.1 &  79.553 & 313 & 91 & 401 &  1 & 313 & 1.60e-171 &    4498 & Avena sativa                              & monocots     \\\\\n",
       "\t Q39617.1 &  70.253 & 316 & 86 & 401 & 82 & 396 & 4.60e-164 &    3055 & Chlamydomonas reinhardtii                 & green algae  \\\\\n",
       "\t O66148.2 &  56.698 & 321 & 87 & 401 &  4 & 322 & 4.04e-122 &    1184 & Leptolyngbya boryana                      & cyanobacteria\\\\\n",
       "\t Q59987.2 &  53.918 & 319 & 89 & 401 &  6 & 322 & 1.54e-113 & 1111708 & Synechocystis sp. PCC 6803 substr. Kazusa & cyanobacteria\\\\\n",
       "\\end{tabular}\n"
      ],
      "text/markdown": [
       "\n",
       "A data.frame: 16 × 11\n",
       "\n",
       "| saccver &lt;fct&gt; | pident &lt;dbl&gt; | length &lt;int&gt; | qstart &lt;int&gt; | qend &lt;int&gt; | sstart &lt;int&gt; | send &lt;int&gt; | evalue &lt;dbl&gt; | staxid &lt;int&gt; | ssciname &lt;fct&gt; | sblastname &lt;fct&gt; |\n",
       "|---|---|---|---|---|---|---|---|---|---|---|\n",
       "| O48741.1 | 100.000 | 401 |  1 | 401 |  1 | 401 |  0.00e+00 |    3702 | Arabidopsis thaliana                      | eudicots      |\n",
       "| Q9SDT1.1 |  78.856 | 402 |  1 | 401 |  1 | 398 |  0.00e+00 |    4039 | Daucus carota                             | eudicots      |\n",
       "| Q41249.1 |  77.612 | 402 |  1 | 401 |  1 | 398 |  0.00e+00 |    3659 | Cucumis sativus                           | eudicots      |\n",
       "| Q42536.2 |  75.245 | 408 |  1 | 401 |  1 | 405 |  0.00e+00 |    3702 | Arabidopsis thaliana                      | eudicots      |\n",
       "| Q8W3D9.1 |  74.384 | 406 |  1 | 401 |  1 | 398 |  0.00e+00 |   39947 | Oryza sativa Japonica Group               | monocots      |\n",
       "| Q42850.1 |  73.945 | 403 |  1 | 401 |  1 | 395 |  0.00e+00 |    4513 | Hordeum vulgare                           | monocots      |\n",
       "| Q01289.1 |  77.723 | 404 |  1 | 401 |  1 | 399 |  0.00e+00 |    3888 | Pisum sativum                             | eudicots      |\n",
       "| P21218.3 |  76.049 | 405 |  1 | 401 |  1 | 401 |  0.00e+00 |    3702 | Arabidopsis thaliana                      | eudicots      |\n",
       "| O80333.1 |  66.093 | 407 |  2 | 400 | 66 | 457 |  0.00e+00 |   56867 | Marchantia paleacea                       | liverworts    |\n",
       "| Q41578.1 |  69.458 | 406 |  1 | 401 |  1 | 388 |  0.00e+00 |    4565 | Triticum aestivum                         | monocots      |\n",
       "| Q7XKF3.1 |  68.317 | 404 |  1 | 400 |  1 | 386 |  0.00e+00 |   39947 | Oryza sativa Japonica Group               | monocots      |\n",
       "| P13653.1 |  68.966 | 406 |  1 | 401 |  1 | 388 |  0.00e+00 |    4513 | Hordeum vulgare                           | monocots      |\n",
       "| P15904.1 |  79.553 | 313 | 91 | 401 |  1 | 313 | 1.60e-171 |    4498 | Avena sativa                              | monocots      |\n",
       "| Q39617.1 |  70.253 | 316 | 86 | 401 | 82 | 396 | 4.60e-164 |    3055 | Chlamydomonas reinhardtii                 | green algae   |\n",
       "| O66148.2 |  56.698 | 321 | 87 | 401 |  4 | 322 | 4.04e-122 |    1184 | Leptolyngbya boryana                      | cyanobacteria |\n",
       "| Q59987.2 |  53.918 | 319 | 89 | 401 |  6 | 322 | 1.54e-113 | 1111708 | Synechocystis sp. PCC 6803 substr. Kazusa | cyanobacteria |\n",
       "\n"
      ],
      "text/plain": [
       "   saccver  pident  length qstart qend sstart send evalue    staxid \n",
       "1  O48741.1 100.000 401     1     401   1     401   0.00e+00    3702\n",
       "2  Q9SDT1.1  78.856 402     1     401   1     398   0.00e+00    4039\n",
       "3  Q41249.1  77.612 402     1     401   1     398   0.00e+00    3659\n",
       "4  Q42536.2  75.245 408     1     401   1     405   0.00e+00    3702\n",
       "5  Q8W3D9.1  74.384 406     1     401   1     398   0.00e+00   39947\n",
       "6  Q42850.1  73.945 403     1     401   1     395   0.00e+00    4513\n",
       "7  Q01289.1  77.723 404     1     401   1     399   0.00e+00    3888\n",
       "8  P21218.3  76.049 405     1     401   1     401   0.00e+00    3702\n",
       "9  O80333.1  66.093 407     2     400  66     457   0.00e+00   56867\n",
       "10 Q41578.1  69.458 406     1     401   1     388   0.00e+00    4565\n",
       "11 Q7XKF3.1  68.317 404     1     400   1     386   0.00e+00   39947\n",
       "12 P13653.1  68.966 406     1     401   1     388   0.00e+00    4513\n",
       "13 P15904.1  79.553 313    91     401   1     313  1.60e-171    4498\n",
       "14 Q39617.1  70.253 316    86     401  82     396  4.60e-164    3055\n",
       "15 O66148.2  56.698 321    87     401   4     322  4.04e-122    1184\n",
       "16 Q59987.2  53.918 319    89     401   6     322  1.54e-113 1111708\n",
       "   ssciname                                  sblastname   \n",
       "1  Arabidopsis thaliana                      eudicots     \n",
       "2  Daucus carota                             eudicots     \n",
       "3  Cucumis sativus                           eudicots     \n",
       "4  Arabidopsis thaliana                      eudicots     \n",
       "5  Oryza sativa Japonica Group               monocots     \n",
       "6  Hordeum vulgare                           monocots     \n",
       "7  Pisum sativum                             eudicots     \n",
       "8  Arabidopsis thaliana                      eudicots     \n",
       "9  Marchantia paleacea                       liverworts   \n",
       "10 Triticum aestivum                         monocots     \n",
       "11 Oryza sativa Japonica Group               monocots     \n",
       "12 Hordeum vulgare                           monocots     \n",
       "13 Avena sativa                              monocots     \n",
       "14 Chlamydomonas reinhardtii                 green algae  \n",
       "15 Leptolyngbya boryana                      cyanobacteria\n",
       "16 Synechocystis sp. PCC 6803 substr. Kazusa cyanobacteria"
      ]
     },
     "metadata": {},
     "output_type": "display_data"
    }
   ],
   "source": [
    "TablaOut01"
   ]
  },
  {
   "cell_type": "markdown",
   "id": "quantitative-advisory",
   "metadata": {},
   "source": [
    "La tabla de resultados incluye 16 secuencias encontradas, incluyendo la misma secuencia usada como *query*. Las columnas de la tabla són:\n",
    "\n",
    "- **saccver**: número de acceso o identificador de la secuencia encontrada (*subject*).\n",
    "- **pident**: porcentaje de identidad entre la *query* y el *subject* en su alineamiento local.\n",
    "- **length**: longitud del alineamiento entre *query* y *subject*.\n",
    "- **qstart**: primera posición de la *query* alineada.\n",
    "- **qend**: última posición alineada en la *query*.\n",
    "- **sstart**: primera posición de la *subject* alineada.\n",
    "- **send**: última posición de la *subject* alineada.\n",
    "- **evalue**: valor E del alineamiento. Es decir, número de alineamientos de igual o mejor puntuación esperados por azar en una base de datos igual de grande.\n",
    "- **staxid**: identificador de la especie a la que pertenece la *subject*, en la base de datos de taxonomía del NCBI.\n",
    "- **ssciname**: nombre científico de la especie a la que pertenece la *subject*.\n",
    "- **sblastname**: nombre de un grupo taxonómico de rango superior al que pertenece la *subject*, usado para facilitar la interpretación.\n",
    "\n",
    "### BLASTP en serie\n",
    "Para ver cómo aumenta el número de secuencias a medida que aumenta el umbral de valor E, deberíamos repetir la búsqueda unas cuantas veces, con valores del parámetro `-evalue` diferentes. Podemos hacerlo de forma automática, por ejemplo, usando la función `lapply()`. El código siguiente ejecutará una búsqueda de **blastp** para cada valor del vector `Valores_E_maximos`. El resultado será una lista de tablas, como la anterior. "
   ]
  },
  {
   "cell_type": "code",
   "execution_count": 3,
   "id": "breathing-plasma",
   "metadata": {},
   "outputs": [],
   "source": [
    "Valores_E_maximos <- c('1.0e-50', '1.0e-40', '1.0e-30', '1.0e-20', '1.0e-10',\n",
    "                       '1.0e-08', '1.0e-06', '1.0e-04', '1.0e-02', '1')\n",
    "\n",
    "# La función lapply() aplicará una función (segundo argumento) sobre\n",
    "# cada uno de los valores de la lista o vector indicados en el primer\n",
    "# argumento (Valores_E_maximos, en este caso). La función que aplicamos\n",
    "# la definimos entre llaves (\"{}\"). Incluye todos los pasos necesarios\n",
    "# para obtener una tabla de resultados como la anterior.\n",
    "Lista_de_Tablas <- lapply(Valores_E_maximos,\n",
    "                          function(x) {\n",
    "                              BlastpOut <- system2(\n",
    "                                  command = 'blastp',\n",
    "                                  args = c('-db', 'swissprot',\n",
    "                                           '-query', 'LPOR.fas',\n",
    "                                           '-evalue', x,\n",
    "                                           '-outfmt',\n",
    "                                           '\"7 saccver pident length qstart qend sstart send evalue staxid ssciname sblastname\"'),\n",
    "                                  stdout = TRUE)\n",
    "                              read.table(textConnection(BlastpOut),\n",
    "                                         sep = '\\t',\n",
    "                                         col.names = c('saccver', 'pident', 'length', 'qstart',\n",
    "                                            'qend', 'sstart', 'send', 'evalue', 'staxid',\n",
    "                                            'ssciname', 'sblastname'))\n",
    "                          })"
   ]
  },
  {
   "cell_type": "markdown",
   "id": "clear-format",
   "metadata": {},
   "source": [
    "El objeto `Lista_de_Tablas` guarda las tablas de resultados de los diez **blastp** ejecutados. Podemos acceder a una tabla individual mediante los dobles corchetes:"
   ]
  },
  {
   "cell_type": "code",
   "execution_count": 4,
   "id": "suffering-budget",
   "metadata": {},
   "outputs": [
    {
     "data": {
      "text/html": [
       "<table class=\"dataframe\">\n",
       "<caption>A data.frame: 6 × 11</caption>\n",
       "<thead>\n",
       "\t<tr><th></th><th scope=col>saccver</th><th scope=col>pident</th><th scope=col>length</th><th scope=col>qstart</th><th scope=col>qend</th><th scope=col>sstart</th><th scope=col>send</th><th scope=col>evalue</th><th scope=col>staxid</th><th scope=col>ssciname</th><th scope=col>sblastname</th></tr>\n",
       "\t<tr><th></th><th scope=col>&lt;fct&gt;</th><th scope=col>&lt;dbl&gt;</th><th scope=col>&lt;int&gt;</th><th scope=col>&lt;int&gt;</th><th scope=col>&lt;int&gt;</th><th scope=col>&lt;int&gt;</th><th scope=col>&lt;int&gt;</th><th scope=col>&lt;dbl&gt;</th><th scope=col>&lt;int&gt;</th><th scope=col>&lt;fct&gt;</th><th scope=col>&lt;fct&gt;</th></tr>\n",
       "</thead>\n",
       "<tbody>\n",
       "\t<tr><th scope=row>14</th><td>Q39617.1</td><td>70.253</td><td>316</td><td>86</td><td>401</td><td> 82</td><td>396</td><td>4.60e-164</td><td>   3055</td><td>Chlamydomonas reinhardtii                </td><td>green algae  </td></tr>\n",
       "\t<tr><th scope=row>15</th><td>O66148.2</td><td>56.698</td><td>321</td><td>87</td><td>401</td><td>  4</td><td>322</td><td>4.04e-122</td><td>   1184</td><td>Leptolyngbya boryana                     </td><td>cyanobacteria</td></tr>\n",
       "\t<tr><th scope=row>16</th><td>Q59987.2</td><td>53.918</td><td>319</td><td>89</td><td>401</td><td>  6</td><td>322</td><td>1.54e-113</td><td>1111708</td><td>Synechocystis sp. PCC 6803 substr. Kazusa</td><td>cyanobacteria</td></tr>\n",
       "\t<tr><th scope=row>17</th><td>Q803A8.1</td><td>36.562</td><td>320</td><td>93</td><td>398</td><td>125</td><td>402</td><td> 2.31e-33</td><td>   7955</td><td>Danio rerio                              </td><td>bony fishes  </td></tr>\n",
       "\t<tr><th scope=row>18</th><td>Q91WL8.1</td><td>34.185</td><td>313</td><td>91</td><td>398</td><td>126</td><td>405</td><td> 5.28e-33</td><td>  10090</td><td>Mus musculus                             </td><td>rodents      </td></tr>\n",
       "\t<tr><th scope=row>19</th><td>A2RVM0.1</td><td>32.588</td><td>313</td><td>91</td><td>397</td><td> 31</td><td>312</td><td> 3.24e-32</td><td>   3702</td><td>Arabidopsis thaliana                     </td><td>eudicots     </td></tr>\n",
       "</tbody>\n",
       "</table>\n"
      ],
      "text/latex": [
       "A data.frame: 6 × 11\n",
       "\\begin{tabular}{r|lllllllllll}\n",
       "  & saccver & pident & length & qstart & qend & sstart & send & evalue & staxid & ssciname & sblastname\\\\\n",
       "  & <fct> & <dbl> & <int> & <int> & <int> & <int> & <int> & <dbl> & <int> & <fct> & <fct>\\\\\n",
       "\\hline\n",
       "\t14 & Q39617.1 & 70.253 & 316 & 86 & 401 &  82 & 396 & 4.60e-164 &    3055 & Chlamydomonas reinhardtii                 & green algae  \\\\\n",
       "\t15 & O66148.2 & 56.698 & 321 & 87 & 401 &   4 & 322 & 4.04e-122 &    1184 & Leptolyngbya boryana                      & cyanobacteria\\\\\n",
       "\t16 & Q59987.2 & 53.918 & 319 & 89 & 401 &   6 & 322 & 1.54e-113 & 1111708 & Synechocystis sp. PCC 6803 substr. Kazusa & cyanobacteria\\\\\n",
       "\t17 & Q803A8.1 & 36.562 & 320 & 93 & 398 & 125 & 402 &  2.31e-33 &    7955 & Danio rerio                               & bony fishes  \\\\\n",
       "\t18 & Q91WL8.1 & 34.185 & 313 & 91 & 398 & 126 & 405 &  5.28e-33 &   10090 & Mus musculus                              & rodents      \\\\\n",
       "\t19 & A2RVM0.1 & 32.588 & 313 & 91 & 397 &  31 & 312 &  3.24e-32 &    3702 & Arabidopsis thaliana                      & eudicots     \\\\\n",
       "\\end{tabular}\n"
      ],
      "text/markdown": [
       "\n",
       "A data.frame: 6 × 11\n",
       "\n",
       "| <!--/--> | saccver &lt;fct&gt; | pident &lt;dbl&gt; | length &lt;int&gt; | qstart &lt;int&gt; | qend &lt;int&gt; | sstart &lt;int&gt; | send &lt;int&gt; | evalue &lt;dbl&gt; | staxid &lt;int&gt; | ssciname &lt;fct&gt; | sblastname &lt;fct&gt; |\n",
       "|---|---|---|---|---|---|---|---|---|---|---|---|\n",
       "| 14 | Q39617.1 | 70.253 | 316 | 86 | 401 |  82 | 396 | 4.60e-164 |    3055 | Chlamydomonas reinhardtii                 | green algae   |\n",
       "| 15 | O66148.2 | 56.698 | 321 | 87 | 401 |   4 | 322 | 4.04e-122 |    1184 | Leptolyngbya boryana                      | cyanobacteria |\n",
       "| 16 | Q59987.2 | 53.918 | 319 | 89 | 401 |   6 | 322 | 1.54e-113 | 1111708 | Synechocystis sp. PCC 6803 substr. Kazusa | cyanobacteria |\n",
       "| 17 | Q803A8.1 | 36.562 | 320 | 93 | 398 | 125 | 402 |  2.31e-33 |    7955 | Danio rerio                               | bony fishes   |\n",
       "| 18 | Q91WL8.1 | 34.185 | 313 | 91 | 398 | 126 | 405 |  5.28e-33 |   10090 | Mus musculus                              | rodents       |\n",
       "| 19 | A2RVM0.1 | 32.588 | 313 | 91 | 397 |  31 | 312 |  3.24e-32 |    3702 | Arabidopsis thaliana                      | eudicots      |\n",
       "\n"
      ],
      "text/plain": [
       "   saccver  pident length qstart qend sstart send evalue    staxid \n",
       "14 Q39617.1 70.253 316    86     401   82    396  4.60e-164    3055\n",
       "15 O66148.2 56.698 321    87     401    4    322  4.04e-122    1184\n",
       "16 Q59987.2 53.918 319    89     401    6    322  1.54e-113 1111708\n",
       "17 Q803A8.1 36.562 320    93     398  125    402   2.31e-33    7955\n",
       "18 Q91WL8.1 34.185 313    91     398  126    405   5.28e-33   10090\n",
       "19 A2RVM0.1 32.588 313    91     397   31    312   3.24e-32    3702\n",
       "   ssciname                                  sblastname   \n",
       "14 Chlamydomonas reinhardtii                 green algae  \n",
       "15 Leptolyngbya boryana                      cyanobacteria\n",
       "16 Synechocystis sp. PCC 6803 substr. Kazusa cyanobacteria\n",
       "17 Danio rerio                               bony fishes  \n",
       "18 Mus musculus                              rodents      \n",
       "19 Arabidopsis thaliana                      eudicots     "
      ]
     },
     "metadata": {},
     "output_type": "display_data"
    }
   ],
   "source": [
    "tail(Lista_de_Tablas[[3]])"
   ]
  },
  {
   "cell_type": "markdown",
   "id": "gentle-yesterday",
   "metadata": {},
   "source": [
    "Para saber cuántas secuencias homólogas ha encontrado **blastp** en la base de datos con cada valor del parámetro `-evalue`, aplico la función `dim()` que devuelve las dimensiones del objeto en cuestión (número de filas y de columnas) y me quedo con la primera dimensión (número de filas):"
   ]
  },
  {
   "cell_type": "code",
   "execution_count": 5,
   "id": "humanitarian-billy",
   "metadata": {},
   "outputs": [
    {
     "data": {
      "text/html": [
       "<style>\n",
       ".list-inline {list-style: none; margin:0; padding: 0}\n",
       ".list-inline>li {display: inline-block}\n",
       ".list-inline>li:not(:last-child)::after {content: \"\\00b7\"; padding: 0 .5ex}\n",
       "</style>\n",
       "<ol class=list-inline><li>16</li><li>16</li><li>19</li><li>27</li><li>48</li><li>58</li><li>71</li><li>87</li><li>144</li><li>313</li></ol>\n"
      ],
      "text/latex": [
       "\\begin{enumerate*}\n",
       "\\item 16\n",
       "\\item 16\n",
       "\\item 19\n",
       "\\item 27\n",
       "\\item 48\n",
       "\\item 58\n",
       "\\item 71\n",
       "\\item 87\n",
       "\\item 144\n",
       "\\item 313\n",
       "\\end{enumerate*}\n"
      ],
      "text/markdown": [
       "1. 16\n",
       "2. 16\n",
       "3. 19\n",
       "4. 27\n",
       "5. 48\n",
       "6. 58\n",
       "7. 71\n",
       "8. 87\n",
       "9. 144\n",
       "10. 313\n",
       "\n",
       "\n"
      ],
      "text/plain": [
       " [1]  16  16  19  27  48  58  71  87 144 313"
      ]
     },
     "metadata": {},
     "output_type": "display_data"
    }
   ],
   "source": [
    "Numero_de_resultados <- sapply(Lista_de_Tablas, function(x) dim(x)[1])\n",
    "Numero_de_resultados"
   ]
  },
  {
   "cell_type": "code",
   "execution_count": 10,
   "id": "systematic-liver",
   "metadata": {},
   "outputs": [
    {
     "data": {
      "image/png": "[encoded data removed]",
      "text/plain": [
       "plot without title"
      ]
     },
     "metadata": {
      "image/png": {
       "height": 420,
       "width": 420
      }
     },
     "output_type": "display_data"
    }
   ],
   "source": [
    "# En la representación gráfica, podemos usar escala logarítmica solamente\n",
    "# en un eje (\"log='x'\"), en los dos, o en ninguno.\n",
    "plot(Valores_E_maximos, Numero_de_resultados, log = 'xy', type = 'b')"
   ]
  },
  {
   "cell_type": "markdown",
   "id": "executed-drove",
   "metadata": {},
   "source": [
    "A continuación examino la relación entre la longitud del alineamiento y el valor E de los resultados guardados en la última tabla, la número 10, en la que he usado un valor E de 1 y que contiene un mayor número de resultados."
   ]
  },
  {
   "cell_type": "code",
   "execution_count": 11,
   "id": "bulgarian-collectible",
   "metadata": {},
   "outputs": [
    {
     "data": {
      "image/png": "[encoded data removed]",
      "text/plain": [
       "plot without title"
      ]
     },
     "metadata": {
      "image/png": {
       "height": 420,
       "width": 420
      }
     },
     "output_type": "display_data"
    }
   ],
   "source": [
    "# El símbolo \"$\" extrae de un \"data frame\" una columna. Si ejecutas\n",
    "# \"Lista_de_Tablas[[3]]$length\", verás que el resultado es el vector\n",
    "# de las longitudes de los alineamientos de la tercera tabla, por ejemplo.\n",
    "plot(Lista_de_Tablas[[10]]$length, Lista_de_Tablas[[10]]$evalue,\n",
    "     xlab = 'Longitud de alineamiento', ylab = 'Valor E')"
   ]
  },
  {
   "cell_type": "markdown",
   "id": "educational-peoples",
   "metadata": {},
   "source": [
    "Aunque la proteína LPOR es de unos 400 aminoácidos, existen alineamientos de menos de 100. Esto indica que existen muchas proteínas en la base de datos que presentan homología **parcial** con LPOR. Es decir, que muchos de estos resultados corresponden a proteínas que solo se parecen a LPOR en un fragmento concreto; probablemente un dominio de función conservada. Cabe preguntar qué posiciones de LPOR son esas que participan en los alineamientos parciales. "
   ]
  },
  {
   "cell_type": "code",
   "execution_count": 12,
   "id": "british-philip",
   "metadata": {},
   "outputs": [
    {
     "data": {
      "image/png": "[encoded data removed]",
      "text/plain": [
       "plot without title"
      ]
     },
     "metadata": {
      "image/png": {
       "height": 420,
       "width": 420
      }
     },
     "output_type": "display_data"
    }
   ],
   "source": [
    "inicios <- Lista_de_Tablas[[10]]$qstart\n",
    "finales <- Lista_de_Tablas[[10]]$qend\n",
    "valoresE <- Lista_de_Tablas[[10]]$evalue\n",
    "\n",
    "# La función segments() añade segmentos a un gráfico previo. Por eso, represento\n",
    "# antes un gráfico con los rangos adecuados, pero vacío (type='n'). Para determinar\n",
    "# el rango del eje horizontal, determino primero el valor máximo de \"qend\".\n",
    "AlineamientoMaximo <- max(Lista_de_Tablas[[10]]$qend)\n",
    "plot(c(0, AlineamientoMaximo), range(valoresE), type='n', xlab='Posición', ylab='Valor E')\n",
    "segments(inicios, valoresE, finales, valoresE)"
   ]
  },
  {
   "cell_type": "markdown",
   "id": "armed-abuse",
   "metadata": {},
   "source": [
    "Esta gráfica muestra que la homología encontrada con valores E mayores no está distribuída aleatoriamente a lo largo de la secuencia de LPOR, sino que, efectivamente, se concentra entre las posiciones 100 y 200, aproximadamente.\n",
    "\n",
    "Por último, voy a explorar la distribución taxonómica de las secuencias encontradas. La columna `sblastname` ofrece una clasificación fácilmente interpretable de las secuencias. Una posibilidad es contar en cada tabla las secuencias encontradas de cada grupo taxonómico. Para ello, aplico la función `table()` a esa columna de cada tabla en `Lista_de_Tablas`:"
   ]
  },
  {
   "cell_type": "code",
   "execution_count": 13,
   "id": "official-excitement",
   "metadata": {},
   "outputs": [
    {
     "data": {
      "text/plain": [
       "[[1]]\n",
       "\n",
       "cyanobacteria      eudicots   green algae    liverworts      monocots \n",
       "            2             6             1             1             6 \n",
       "\n",
       "[[2]]\n",
       "\n",
       "cyanobacteria      eudicots   green algae    liverworts      monocots \n",
       "            2             6             1             1             6 \n",
       "\n",
       "[[3]]\n",
       "\n",
       "  bony fishes cyanobacteria      eudicots   green algae    liverworts \n",
       "            1             2             7             1             1 \n",
       "     monocots       rodents \n",
       "            6             1 \n",
       "\n",
       "[[4]]\n",
       "\n",
       "        ascomycetes         bony fishes       cyanobacteria            eudicots \n",
       "                  1                   1                   2                   9 \n",
       "even-toed ungulates         green algae          liverworts            monocots \n",
       "                  1                   1                   1                   6 \n",
       "           primates             rodents \n",
       "                  1                   4 \n",
       "\n",
       "[[5]]\n",
       "\n",
       "        ascomycetes               birds         bony fishes       cyanobacteria \n",
       "                  4                   1                   1                   2 \n",
       "           eudicots even-toed ungulates               flies         green algae \n",
       "                 11                   4                   1                   1 \n",
       "      high GC Gram+          liverworts            monocots            primates \n",
       "                  2                   1                   6                   8 \n",
       "            rodents \n",
       "                  6 \n",
       "\n",
       "[[6]]\n",
       "\n",
       "        ascomycetes      basidiomycetes               birds         bony fishes \n",
       "                 11                   1                   1                   1 \n",
       "      cyanobacteria            eudicots even-toed ungulates               flies \n",
       "                  2                  11                   4                   1 \n",
       "        green algae       high GC Gram+          liverworts            monocots \n",
       "                  1                   2                   1                   6 \n",
       "           primates             rodents \n",
       "                  9                   7 \n",
       "\n",
       "[[7]]\n",
       "\n",
       "   a-proteobacteria         ascomycetes      basidiomycetes               birds \n",
       "                  1                  18                   2                   1 \n",
       "        bony fishes       cyanobacteria            eudicots even-toed ungulates \n",
       "                  1                   2                  11                   3 \n",
       "         firmicutes               flies         green algae       high GC Gram+ \n",
       "                  1                   1                   1                   4 \n",
       "         liverworts            monocots            primates             rodents \n",
       "                  1                   6                  10                   8 \n",
       "\n",
       "[[8]]\n",
       "\n",
       "   a-proteobacteria         ascomycetes    b-proteobacteria      basidiomycetes \n",
       "                  2                  20                   1                   3 \n",
       "              birds         bony fishes      budding yeasts       cyanobacteria \n",
       "                  1                   1                   2                   2 \n",
       "           eudicots even-toed ungulates          firmicutes               flies \n",
       "                 14                   5                   1                   1 \n",
       "        green algae       high GC Gram+          liverworts            monocots \n",
       "                  1                   4                   1                   6 \n",
       "           primates             rodents \n",
       "                 13                   9 \n",
       "\n",
       "[[9]]\n",
       "\n",
       "   a-proteobacteria         ascomycetes    b-proteobacteria      basidiomycetes \n",
       "                  7                  31                   1                   2 \n",
       "              birds         bony fishes      budding yeasts       cyanobacteria \n",
       "                  2                   1                   2                   2 \n",
       "     enterobacteria            eudicots even-toed ungulates          firmicutes \n",
       "                  3                  21                   8                  12 \n",
       "              flies    g-proteobacteria         green algae       high GC Gram+ \n",
       "                  2                   4                   1                   6 \n",
       "         liverworts            monocots            primates     rabbits & hares \n",
       "                  1                   6                  14                   2 \n",
       "            rodents       thermotogales \n",
       "                 15                   1 \n",
       "\n",
       "[[10]]\n",
       "\n",
       "     a-proteobacteria           ascomycetes      b-proteobacteria \n",
       "                   19                    63                     3 \n",
       "       basidiomycetes                 birds           bony fishes \n",
       "                    3                     2                     2 \n",
       "       budding yeasts  cellular slime molds            chlamydias \n",
       "                    7                     1                     1 \n",
       "        cyanobacteria      e-proteobacteria        enterobacteria \n",
       "                    3                     1                    14 \n",
       "             eudicots   even-toed ungulates            firmicutes \n",
       "                   47                    12                    31 \n",
       "                flies      flowering plants         frogs & toads \n",
       "                    2                     2                     2 \n",
       "     g-proteobacteria           green algae green sulfur bacteria \n",
       "                    7                     1                     1 \n",
       "        high GC Gram+            liverworts              monocots \n",
       "                   20                     1                     7 \n",
       "            mosquitos              primates       rabbits & hares \n",
       "                    1                    29                     2 \n",
       "              rodents           seed plants         thermotogales \n",
       "                   27                     1                     1 \n"
      ]
     },
     "metadata": {},
     "output_type": "display_data"
    }
   ],
   "source": [
    "lapply(Lista_de_Tablas, function(x) table(x$sblastname))"
   ]
  },
  {
   "cell_type": "markdown",
   "id": "vulnerable-vancouver",
   "metadata": {},
   "source": [
    "El resultado del código anterior es una lista de recuentos de los diferentes grupos taxonómicos presentes en cada tabla de resultados de **blastp**. Se observa, por ejemplo, que en los resultados del tercer **blastp** (umbral de valor E de $10^{-30}$) empiezan a aprecer secuencias homólogas a LPOR procedentes de animales.\n",
    "\n",
    "Puesto que LPOR es un enzima de organimsmos fotosintéticos, cabe suponer que solo las proteínas homólogas con valores E menores y con alineamientos más completos conservan una misma función en la síntesis de clorofila. Para ver la relación entre la longitud del alineamiento y la distribución taxonómica, a continuación repito el recuento de grupos taxonómicos pero contando solamente las secuencias con un alineamiento de al menos 300 aminoácidos:"
   ]
  },
  {
   "cell_type": "code",
   "execution_count": 14,
   "id": "smart-sierra",
   "metadata": {},
   "outputs": [
    {
     "data": {
      "text/plain": [
       "[[1]]\n",
       "\n",
       "cyanobacteria      eudicots   green algae    liverworts      monocots \n",
       "            2             6             1             1             6 \n",
       "\n",
       "[[2]]\n",
       "\n",
       "cyanobacteria      eudicots   green algae    liverworts      monocots \n",
       "            2             6             1             1             6 \n",
       "\n",
       "[[3]]\n",
       "\n",
       "  bony fishes cyanobacteria      eudicots   green algae    liverworts \n",
       "            1             2             7             1             1 \n",
       "     monocots       rodents \n",
       "            6             1 \n",
       "\n",
       "[[4]]\n",
       "\n",
       "        ascomycetes         bony fishes       cyanobacteria            eudicots \n",
       "                  1                   1                   2                   9 \n",
       "even-toed ungulates         green algae          liverworts            monocots \n",
       "                  1                   1                   1                   6 \n",
       "           primates             rodents \n",
       "                  1                   4 \n",
       "\n",
       "[[5]]\n",
       "\n",
       "        ascomycetes               birds         bony fishes       cyanobacteria \n",
       "                  2                   1                   1                   2 \n",
       "           eudicots even-toed ungulates               flies         green algae \n",
       "                 11                   4                   1                   1 \n",
       "      high GC Gram+          liverworts            monocots            primates \n",
       "                  2                   1                   6                   7 \n",
       "            rodents \n",
       "                  6 \n",
       "\n",
       "[[6]]\n",
       "\n",
       "        ascomycetes      basidiomycetes               birds         bony fishes \n",
       "                  3                   1                   1                   1 \n",
       "      cyanobacteria            eudicots even-toed ungulates               flies \n",
       "                  2                  11                   4                   1 \n",
       "        green algae       high GC Gram+          liverworts            monocots \n",
       "                  1                   2                   1                   6 \n",
       "           primates             rodents \n",
       "                  7                   6 \n",
       "\n",
       "[[7]]\n",
       "\n",
       "   a-proteobacteria         ascomycetes      basidiomycetes               birds \n",
       "                  0                   4                   2                   1 \n",
       "        bony fishes       cyanobacteria            eudicots even-toed ungulates \n",
       "                  1                   2                  11                   3 \n",
       "         firmicutes               flies         green algae       high GC Gram+ \n",
       "                  0                   1                   1                   4 \n",
       "         liverworts            monocots            primates             rodents \n",
       "                  1                   6                   7                   7 \n",
       "\n",
       "[[8]]\n",
       "\n",
       "   a-proteobacteria         ascomycetes    b-proteobacteria      basidiomycetes \n",
       "                  0                   4                   0                   2 \n",
       "              birds         bony fishes      budding yeasts       cyanobacteria \n",
       "                  1                   1                   0                   2 \n",
       "           eudicots even-toed ungulates          firmicutes               flies \n",
       "                 11                   4                   0                   1 \n",
       "        green algae       high GC Gram+          liverworts            monocots \n",
       "                  1                   4                   1                   6 \n",
       "           primates             rodents \n",
       "                  7                   7 \n",
       "\n",
       "[[9]]\n",
       "\n",
       "   a-proteobacteria         ascomycetes    b-proteobacteria      basidiomycetes \n",
       "                  0                   4                   0                   2 \n",
       "              birds         bony fishes      budding yeasts       cyanobacteria \n",
       "                  1                   1                   0                   2 \n",
       "     enterobacteria            eudicots even-toed ungulates          firmicutes \n",
       "                  0                  11                   4                   0 \n",
       "              flies    g-proteobacteria         green algae       high GC Gram+ \n",
       "                  1                   0                   1                   4 \n",
       "         liverworts            monocots            primates     rabbits & hares \n",
       "                  1                   6                   7                   0 \n",
       "            rodents       thermotogales \n",
       "                  7                   0 \n",
       "\n",
       "[[10]]\n",
       "\n",
       "     a-proteobacteria           ascomycetes      b-proteobacteria \n",
       "                    0                     4                     0 \n",
       "       basidiomycetes                 birds           bony fishes \n",
       "                    2                     1                     1 \n",
       "       budding yeasts  cellular slime molds            chlamydias \n",
       "                    0                     0                     0 \n",
       "        cyanobacteria      e-proteobacteria        enterobacteria \n",
       "                    2                     0                     0 \n",
       "             eudicots   even-toed ungulates            firmicutes \n",
       "                   11                     4                     0 \n",
       "                flies      flowering plants         frogs & toads \n",
       "                    1                     1                     0 \n",
       "     g-proteobacteria           green algae green sulfur bacteria \n",
       "                    0                     1                     0 \n",
       "        high GC Gram+            liverworts              monocots \n",
       "                    4                     1                     6 \n",
       "            mosquitos              primates       rabbits & hares \n",
       "                    0                     7                     0 \n",
       "              rodents           seed plants         thermotogales \n",
       "                    7                     0                     0 \n"
      ]
     },
     "metadata": {},
     "output_type": "display_data"
    }
   ],
   "source": [
    "lapply(Lista_de_Tablas, function(x) {\n",
    "       filtro <- x$length >= 300\n",
    "       table(x[filtro, 'sblastname'])\n",
    "    }\n",
    ")"
   ]
  },
  {
   "cell_type": "markdown",
   "id": "hawaiian-teens",
   "metadata": {},
   "source": [
    "## Discusión\n",
    "Utilizando la secuencia de la proteína LPOR de *Arabidopsis thaliana* como consulta (*query*) en búsquedas de **blastp**, encontramos proteínas homólogas en multitud de especies, incluyendo animales, hongos y varios tipos de bacterias. Sabiendo que LPOR es una enzima específica de organismos fotosintéticos, puede sorprender que existan homólogas en tal diversidad de organismos. La distribución de los alineamientos a lo largo de la secuencia de LPOR (de 400 aminoácidos) muestra que gran parte de la homología encontrada se limita a una región de poco más de 100 aminoácidos, aproximadamente entre los resíduos 100 y 200. Esta región consituye un dominio conservado. Una búsqueda manual de la secuencia en la base de datos Pfam (Mistry *et al*, 2021) muestra que se trata de la família *Adh_short* (PF00106), o *short-chain dehydrogenase*, una família muy extensa de oxidoreductasas, de las que los enzimas LPOR son solo un ejemplo. Esto explica la extensa distribución taxonómica de los homólogos de una enzima que en principio esparábamos encontrar sólo en organismos fotosintéticos.\n",
    "\n",
    "Sin embargo, cabe señalar que algunas de las secuencias homólogas a LPOR presentes en organismos no fotosintéticos extienden su homología a lo largo de más de 300 aminoácidos. Un ejemplo es la proteína [Q91WL8](https://www.ncbi.nlm.nih.gov/protein/Q91WL8) de ratón, una supuesta oxidoreductasa de 414 aminoácidos cuyo alineamiento con LPOR abarca 313 posiciones. Aunque la proteína Q91WL8 y otras proteínas animales comparten homología con LPOR más allá del dominio *Adh_short*, se desconocen la naturaleza funcional y el origen evolutivo del fragmento compartido adicional.\n",
    "\n",
    "Por último, cabe señalar que no se han encontrado homólogos de LPOR en ninguna de las bacterias fototrópicas aerobias anoxigénicas en las que Chernomor et al. (2021) identifican LPORs. Si tomamos la secuencia de cualquiera de las proteínas identificadas por Chernomor et al., como por ejemplo [AMW05784](https://www.ncbi.nlm.nih.gov/protein/AMW05784), de *Gemmatimonas phototrophica*, podemos comprobar que de hecho es fácilmente alineable con la LPOR de *Arabidopsis thaliana* a lo largo de casi toda su longitud, con una identidad del 52% (blastp de dos secuencias realizado manualmente en la página del NCBI). Por lo tanto, la ausencia de esta y otras LPORs de bacterias fototrópicas aerobias anoxigénicas entre nuestros resultados **no** se debe a una falta de sensibilidad del algoritmo BLAST. El motivo es que estas proteínas no están (todavía) incluídas en la base de datos swissprot.\n",
    "\n",
    "## Referencias\n",
    "- Stephen F. Altschul, Warren Gish, Webb Miller, Eugene W. Myers and David J. Lipman. Basic local alignment search tool, *Journal of Molecular Biology*, Volume 215, Issue 3, 1990, Pages 403-410, [doi:10.1016/S0022-2836(05)80360-2](https://doi.org/10.1016/S0022-2836(05)80360-2).\n",
    "- Olga Chernomor, Lena Peters, Judith Schneidewind, Anita Loeschcke, Esther Knieps-Grünhagen, Fabian Schmitz, Eric von Lieres, Roger Jan Kutta, Vera Svensson, Karl-Erich Jaeger, Thomas Drepper, Arndt von Haeseler and Ulrich Krauss. Complex Evolution of Light-Dependent Protochlorophyllide Oxidoreductases in Aerobic Anoxygenic Phototrophs: Origin, Phylogeny, and Function, *Molecular Biology and Evolution*, Volume 38, Issue 3,March 2021, Pages 819–837, [doi:10.1093/molbev/msaa234](https://doi.org/10.1093/molbev/msaa234).\n",
    "- Jaina Mistry, Sara Chuguransky, Lowri Williams, Matloob Qureshi, Gustavo A Salazar, Erik L L Sonnhammer, Silvio C E Tosatto, Lisanna Paladin, Shriya Raj, Lorna J Richardson, Robert D Finn, Alex Bateman. Pfam: The protein families database in 2021, Nucleic Acids Research, Volume 49, Issue D1, 8 January 2021, Pages D412–D419, [doi:10.1093/nar/gkaa913](https://doi.org/10.1093/nar/gkaa913).\n"
   ]
  }
 ],
 "metadata": {
  "kernelspec": {
   "display_name": "R",
   "language": "R",
   "name": "ir"
  },
  "language_info": {
   "codemirror_mode": "r",
   "file_extension": ".r",
   "mimetype": "text/x-r-source",
   "name": "R",
   "pygments_lexer": "r",
   "version": "3.6.3"
  }
 },
 "nbformat": 4,
 "nbformat_minor": 5
}
